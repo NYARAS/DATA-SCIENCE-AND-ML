{
 "cells": [
  {
   "cell_type": "code",
   "execution_count": 1,
   "metadata": {},
   "outputs": [],
   "source": [
    "import pandas as pd"
   ]
  },
  {
   "cell_type": "code",
   "execution_count": 2,
   "metadata": {},
   "outputs": [],
   "source": [
    "dataframe = pd.read_csv(\"scottish_hills.csv\")"
   ]
  },
  {
   "cell_type": "code",
   "execution_count": 7,
   "metadata": {},
   "outputs": [
    {
     "name": "stdout",
     "output_type": "stream",
     "text": [
      "                             Hill Name  Height   Latitude  Longitude    Osgrid\n",
      "0                A' Bhuidheanach Bheag   936.0  56.870342  -4.199001  NN660775\n",
      "1                        A' Chailleach   997.0  57.693800  -5.128715  NH136714\n",
      "2                        A' Chailleach   929.2  57.109564  -4.179285  NH681041\n",
      "3           A' Chraileag (A' Chralaig)  1120.0  57.184186  -5.154837  NH094147\n",
      "4                      A' Ghlas-bheinn   918.0  57.255090  -5.303687  NH008231\n",
      "5                        A' Mhaighdean   967.0  57.719644  -5.346720  NH007749\n",
      "6                       A' Mharconaich   973.2  56.857002  -4.290668  NN604762\n",
      "7                           Am Basteir   934.0  57.247931  -6.202982  NG465253\n",
      "8                            Am Bodach  1031.8  56.741727  -4.983393  NN176650\n",
      "9                        Am Faochagach   953.0  57.771801  -4.853899  NH303793\n",
      "10                         An Caisteal   995.8  56.338600  -4.624368  NN378193\n",
      "11                       An Coileachan   923.9  57.667625  -4.949498  NH241680\n",
      "12                        An Gearanach   981.4  56.759143  -4.966203  NN187669\n",
      "13                       An Riabhachan  1129.0  57.362429  -5.104728  NH133344\n",
      "14                         An Sgarsoch  1006.5  56.932109  -3.754294  NN933836\n",
      "15                           An Socach  1069.0  57.350229  -5.158603  NH100332\n",
      "16                           An Socach   944.0  56.902286  -3.513148  NO079800\n",
      "17                           An Socach   921.0  57.257533  -5.171293  NH088229\n",
      "18                             An Stuc  1117.1  56.560093  -4.216258  NN638431\n",
      "19  An Teallach-Bidein a' Ghlas Thuill  1062.5  57.807098  -5.251767  NH068843\n"
     ]
    }
   ],
   "source": [
    "print(dataframe.head(20))"
   ]
  },
  {
   "cell_type": "code",
   "execution_count": 12,
   "metadata": {},
   "outputs": [],
   "source": [
    "sorted_hills = dataframe.sort_values(by =['Height'], ascending= False )"
   ]
  },
  {
   "cell_type": "code",
   "execution_count": 16,
   "metadata": {},
   "outputs": [
    {
     "name": "stdout",
     "output_type": "stream",
     "text": [
      "                                            Hill Name  Height   Latitude  \\\n",
      "92                                          Ben Nevis  1344.5  56.796891   \n",
      "88                        Ben Macdui (Beinn Macduibh)  1309.0  57.070368   \n",
      "104                                         Braeriach  1296.0  57.078298   \n",
      "115                                        Cairn Toul  1291.0  57.054397   \n",
      "212                             Sgor an Lochain Uaine  1258.0  57.058369   \n",
      "113                                        Cairn Gorm  1244.8  57.116714   \n",
      "22                                        Aonach Beag  1234.0  56.799998   \n",
      "27                                         Aonach Mor  1221.0  56.812932   \n",
      "134                                    Carn Mor Dearg  1220.0  56.805246   \n",
      "85                                         Ben Lawers  1214.0  56.544922   \n",
      "30        Beinn a' Bhuird (Beinn a' Bhuird North Top)  1197.0  57.087590   \n",
      "67                                    Beinn Mheadhoin  1182.9  57.095849   \n",
      "129                            Carn Eige (Carn Eighe)  1182.8  57.287701   \n",
      "173                                       Mam Sodhail  1179.4  57.279801   \n",
      "263                              Stob Choire Claurigh  1177.0  56.823786   \n",
      "89                                           Ben More  1174.0  56.385952   \n",
      "79                 Ben Avon-Leabaidh an Daimh Bhuidhe  1171.0  57.099347   \n",
      "262                                      Stob Binnein  1165.0  56.370717   \n",
      "47                                     Beinn Bhrotain  1157.0  57.009868   \n",
      "170                           Lochnagar-Cac Carn Beag  1156.0  56.960263   \n",
      "151                                   Derry Cairngorm  1155.0  57.062801   \n",
      "246  Sgurr nan Ceathreamhnan (Sgurr nan Ceathramhnan)  1151.0  57.254911   \n",
      "243                                  Sgurr na Lapaich  1151.0  57.369311   \n",
      "99                                    Bidean nam Bian  1149.4  56.642768   \n",
      "78                                          Ben Alder  1148.0  56.813796   \n",
      "160                                        Geal-charn  1132.0  56.837836   \n",
      "102                                       Binnein Mor  1130.0  56.754367   \n",
      "87                             Ben Lui (Beinn Laoigh)  1130.0  56.396932   \n",
      "13                                      An Riabhachan  1129.0  57.362429   \n",
      "145                                    Creag Meagaidh  1128.0  56.952033   \n",
      "82                                       Ben Cruachan  1127.0  56.426839   \n",
      "185                                       Meall Garbh  1123.1  56.566122   \n",
      "40                      Beinn a' Ghlo-Carn nan Gabhar  1121.9  56.839792   \n",
      "3                          A' Chraileag (A' Chralaig)  1120.0  57.184186   \n",
      "214                                       Sgor Gaoith  1118.0  57.068561   \n",
      "18                                            An Stuc  1117.1  56.560093   \n",
      "266                              Stob Coire an Laoigh  1116.0  56.810877   \n",
      "23                                        Aonach Beag  1115.8  56.833496   \n",
      "267                                 Stob Coire Easain  1115.0  56.818199   \n",
      "196                                        Monadh Mor  1113.0  57.026791   \n",
      "280                                   Tom a' Choinich  1112.0  57.299518   \n",
      "117                         Carn a' Choire Bhoidheach  1109.9  56.945773   \n",
      "250                             Sgurr nan Conbhairean  1109.0  57.177621   \n",
      "236                                         Sgurr Mor  1108.0  57.700133   \n",
      "178                                 Meall a' Bhuiridh  1107.9  56.612217   \n",
      "258                          Stob a' Choire Mheadhoin  1105.0  56.823685   \n",
      "54                                      Beinn Eibhinn  1103.2  56.825254   \n",
      "61                                        Beinn Ghlas  1103.0  56.535996   \n",
      "201                             Mullach Fraoch-choire  1102.0  57.205379   \n",
      "149                                            Creise  1099.8  56.614449   \n",
      "\n",
      "     Longitude    Osgrid  \n",
      "92   -5.003675  NN166712  \n",
      "88   -3.669099  NN988989  \n",
      "104  -3.728389  NN953999  \n",
      "115  -3.710773  NN963972  \n",
      "212  -3.725797  NN954976  \n",
      "113  -3.644477  NJ005040  \n",
      "22   -4.954121  NN197715  \n",
      "27   -4.961744  NN193729  \n",
      "134  -4.986616  NN177721  \n",
      "85   -4.220860  NN635414  \n",
      "30   -3.499366  NJ092006  \n",
      "67   -3.611464  NJ024016  \n",
      "129  -5.115159  NH123261  \n",
      "173  -5.120267  NH120253  \n",
      "263  -4.849624  NN261738  \n",
      "89   -4.540087  NN432244  \n",
      "79   -3.434422  NJ131018  \n",
      "262  -4.535753  NN434227  \n",
      "47   -3.723797  NN954922  \n",
      "170  -3.245261  NO243861  \n",
      "151  -3.622004  NO017980  \n",
      "246  -5.222732  NH057228  \n",
      "243  -5.059726  NH161351  \n",
      "99   -5.029335  NN143542  \n",
      "78   -4.465089  NN496718  \n",
      "160  -4.509710  NN469746  \n",
      "102  -4.925795  NN212663  \n",
      "87   -4.810520  NN266262  \n",
      "13   -5.104728  NH133344  \n",
      "145  -4.602101  NN418875  \n",
      "82   -5.131828  NN069304  \n",
      "185  -4.207707  NN644437  \n",
      "40   -3.688004  NN971733  \n",
      "3    -5.154837  NH094147  \n",
      "214  -3.810856  NN903989  \n",
      "18   -4.216258  NN638431  \n",
      "266  -4.884891  NN239725  \n",
      "23   -4.529181  NN457741  \n",
      "267  -4.773710  NN308730  \n",
      "196  -3.750086  NN938942  \n",
      "280  -5.048959  NH164273  \n",
      "117  -3.272707  NO226845  \n",
      "250  -5.095424  NH129138  \n",
      "236  -5.016765  NH203718  \n",
      "178  -4.852127  NN250503  \n",
      "258  -4.760183  NN316736  \n",
      "54   -4.542082  NN449733  \n",
      "61   -4.236976  NN625404  \n",
      "201  -5.155652  NH094171  \n",
      "149  -4.871979  NN238506  \n"
     ]
    }
   ],
   "source": [
    "print(sorted_hills.head(50))"
   ]
  },
  {
   "cell_type": "code",
   "execution_count": null,
   "metadata": {},
   "outputs": [],
   "source": []
  }
 ],
 "metadata": {
  "kernelspec": {
   "display_name": "Python 3",
   "language": "python",
   "name": "python3"
  },
  "language_info": {
   "codemirror_mode": {
    "name": "ipython",
    "version": 3
   },
   "file_extension": ".py",
   "mimetype": "text/x-python",
   "name": "python",
   "nbconvert_exporter": "python",
   "pygments_lexer": "ipython3",
   "version": "3.6.8"
  }
 },
 "nbformat": 4,
 "nbformat_minor": 2
}
